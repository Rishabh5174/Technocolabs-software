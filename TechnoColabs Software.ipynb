{
 "cells": [
  {
   "cell_type": "markdown",
   "metadata": {},
   "source": [
    "# RISHABH KUMAR ADDYA\n",
    "\n",
    "### PROJECT: FLIGHT PRICE PREDICTION  "
   ]
  },
  {
   "cell_type": "code",
   "execution_count": 1,
   "metadata": {},
   "outputs": [],
   "source": [
    "# importing the require libraries\n",
    "\n",
    "import pandas as pd\n",
    "import numpy as np \n",
    "import matplotlib.pyplot as plt\n",
    "import seaborn as sns \n",
    "%matplotlib inline"
   ]
  },
  {
   "cell_type": "code",
   "execution_count": 2,
   "metadata": {},
   "outputs": [],
   "source": [
    "# Reading the dataset\n",
    "\n",
    "df=pd.read_csv(r'Downloads\\flight.csv')"
   ]
  },
  {
   "cell_type": "code",
   "execution_count": 3,
   "metadata": {},
   "outputs": [
    {
     "data": {
      "text/html": [
       "<div>\n",
       "<style scoped>\n",
       "    .dataframe tbody tr th:only-of-type {\n",
       "        vertical-align: middle;\n",
       "    }\n",
       "\n",
       "    .dataframe tbody tr th {\n",
       "        vertical-align: top;\n",
       "    }\n",
       "\n",
       "    .dataframe thead th {\n",
       "        text-align: right;\n",
       "    }\n",
       "</style>\n",
       "<table border=\"1\" class=\"dataframe\">\n",
       "  <thead>\n",
       "    <tr style=\"text-align: right;\">\n",
       "      <th></th>\n",
       "      <th>Out_Date</th>\n",
       "      <th>Out_Day</th>\n",
       "      <th>Out_Weekday</th>\n",
       "      <th>Out_Month</th>\n",
       "      <th>out_Year</th>\n",
       "      <th>Out_Time</th>\n",
       "      <th>Out_Cities</th>\n",
       "      <th>Out_Airline</th>\n",
       "      <th>Return_Date</th>\n",
       "      <th>Return_Day</th>\n",
       "      <th>...</th>\n",
       "      <th>Return_Airline</th>\n",
       "      <th>Out_Travel_Time</th>\n",
       "      <th>Return_Travel_Time</th>\n",
       "      <th>Out_Journey_Type</th>\n",
       "      <th>Return_Journey_Type</th>\n",
       "      <th>Out_Stop_Cities</th>\n",
       "      <th>Return_Stop_Cities</th>\n",
       "      <th>Price</th>\n",
       "      <th>timestamp</th>\n",
       "      <th>sort</th>\n",
       "    </tr>\n",
       "  </thead>\n",
       "  <tbody>\n",
       "    <tr>\n",
       "      <th>0</th>\n",
       "      <td>28/12/2021</td>\n",
       "      <td>28</td>\n",
       "      <td>Tuesday</td>\n",
       "      <td>December</td>\n",
       "      <td>2021</td>\n",
       "      <td>07:05–08:20</td>\n",
       "      <td>BLR Bengaluru</td>\n",
       "      <td>IndiGo</td>\n",
       "      <td>31/1/2021</td>\n",
       "      <td>31</td>\n",
       "      <td>...</td>\n",
       "      <td>IndiGo</td>\n",
       "      <td>1h 15m</td>\n",
       "      <td>1h 00m</td>\n",
       "      <td>direct</td>\n",
       "      <td>direct</td>\n",
       "      <td>0</td>\n",
       "      <td>0</td>\n",
       "      <td>4263</td>\n",
       "      <td>20211227-1625</td>\n",
       "      <td>Best</td>\n",
       "    </tr>\n",
       "    <tr>\n",
       "      <th>1</th>\n",
       "      <td>28/12/2021</td>\n",
       "      <td>28</td>\n",
       "      <td>Tuesday</td>\n",
       "      <td>December</td>\n",
       "      <td>2021</td>\n",
       "      <td>15:45–17:00</td>\n",
       "      <td>BLR Bengaluru</td>\n",
       "      <td>IndiGo</td>\n",
       "      <td>31/1/2021</td>\n",
       "      <td>31</td>\n",
       "      <td>...</td>\n",
       "      <td>IndiGo</td>\n",
       "      <td>1h 15m</td>\n",
       "      <td>1h 00m</td>\n",
       "      <td>direct</td>\n",
       "      <td>direct</td>\n",
       "      <td>0</td>\n",
       "      <td>0</td>\n",
       "      <td>4263</td>\n",
       "      <td>20211227-1625</td>\n",
       "      <td>Best</td>\n",
       "    </tr>\n",
       "    <tr>\n",
       "      <th>2</th>\n",
       "      <td>28/12/2021</td>\n",
       "      <td>28</td>\n",
       "      <td>Tuesday</td>\n",
       "      <td>December</td>\n",
       "      <td>2021</td>\n",
       "      <td>07:05–08:20</td>\n",
       "      <td>BLR Bengaluru</td>\n",
       "      <td>IndiGo</td>\n",
       "      <td>31/1/2021</td>\n",
       "      <td>31</td>\n",
       "      <td>...</td>\n",
       "      <td>IndiGo</td>\n",
       "      <td>1h 15m</td>\n",
       "      <td>1h 05m</td>\n",
       "      <td>direct</td>\n",
       "      <td>direct</td>\n",
       "      <td>0</td>\n",
       "      <td>0</td>\n",
       "      <td>4263</td>\n",
       "      <td>20211227-1625</td>\n",
       "      <td>Best</td>\n",
       "    </tr>\n",
       "    <tr>\n",
       "      <th>3</th>\n",
       "      <td>28/12/2021</td>\n",
       "      <td>28</td>\n",
       "      <td>Tuesday</td>\n",
       "      <td>December</td>\n",
       "      <td>2021</td>\n",
       "      <td>15:45–17:00</td>\n",
       "      <td>BLR Bengaluru</td>\n",
       "      <td>IndiGo</td>\n",
       "      <td>31/1/2021</td>\n",
       "      <td>31</td>\n",
       "      <td>...</td>\n",
       "      <td>IndiGo</td>\n",
       "      <td>1h 15m</td>\n",
       "      <td>1h 05m</td>\n",
       "      <td>direct</td>\n",
       "      <td>direct</td>\n",
       "      <td>0</td>\n",
       "      <td>0</td>\n",
       "      <td>4263</td>\n",
       "      <td>20211227-1625</td>\n",
       "      <td>Best</td>\n",
       "    </tr>\n",
       "    <tr>\n",
       "      <th>4</th>\n",
       "      <td>28/12/2021</td>\n",
       "      <td>28</td>\n",
       "      <td>Tuesday</td>\n",
       "      <td>December</td>\n",
       "      <td>2021</td>\n",
       "      <td>07:05–08:20</td>\n",
       "      <td>BLR Bengaluru</td>\n",
       "      <td>IndiGo</td>\n",
       "      <td>31/1/2021</td>\n",
       "      <td>31</td>\n",
       "      <td>...</td>\n",
       "      <td>IndiGo</td>\n",
       "      <td>1h 15m</td>\n",
       "      <td>1h 05m</td>\n",
       "      <td>direct</td>\n",
       "      <td>direct</td>\n",
       "      <td>0</td>\n",
       "      <td>0</td>\n",
       "      <td>4263</td>\n",
       "      <td>20211227-1625</td>\n",
       "      <td>Best</td>\n",
       "    </tr>\n",
       "    <tr>\n",
       "      <th>5</th>\n",
       "      <td>28/12/2021</td>\n",
       "      <td>28</td>\n",
       "      <td>Tuesday</td>\n",
       "      <td>December</td>\n",
       "      <td>2021</td>\n",
       "      <td>15:45–17:00</td>\n",
       "      <td>BLR Bengaluru</td>\n",
       "      <td>IndiGo</td>\n",
       "      <td>31/1/2021</td>\n",
       "      <td>31</td>\n",
       "      <td>...</td>\n",
       "      <td>IndiGo</td>\n",
       "      <td>1h 15m</td>\n",
       "      <td>1h 05m</td>\n",
       "      <td>direct</td>\n",
       "      <td>direct</td>\n",
       "      <td>0</td>\n",
       "      <td>0</td>\n",
       "      <td>4263</td>\n",
       "      <td>20211227-1625</td>\n",
       "      <td>Best</td>\n",
       "    </tr>\n",
       "    <tr>\n",
       "      <th>6</th>\n",
       "      <td>28/12/2021</td>\n",
       "      <td>28</td>\n",
       "      <td>Tuesday</td>\n",
       "      <td>December</td>\n",
       "      <td>2021</td>\n",
       "      <td>15:45–17:00</td>\n",
       "      <td>BLR Bengaluru</td>\n",
       "      <td>IndiGo</td>\n",
       "      <td>31/1/2021</td>\n",
       "      <td>31</td>\n",
       "      <td>...</td>\n",
       "      <td>IndiGo</td>\n",
       "      <td>1h 15m</td>\n",
       "      <td>1h 05m</td>\n",
       "      <td>direct</td>\n",
       "      <td>direct</td>\n",
       "      <td>0</td>\n",
       "      <td>0</td>\n",
       "      <td>4263</td>\n",
       "      <td>20211227-1625</td>\n",
       "      <td>Best</td>\n",
       "    </tr>\n",
       "    <tr>\n",
       "      <th>7</th>\n",
       "      <td>28/12/2021</td>\n",
       "      <td>28</td>\n",
       "      <td>Tuesday</td>\n",
       "      <td>December</td>\n",
       "      <td>2021</td>\n",
       "      <td>07:05–08:20</td>\n",
       "      <td>BLR Bengaluru</td>\n",
       "      <td>IndiGo</td>\n",
       "      <td>31/1/2021</td>\n",
       "      <td>31</td>\n",
       "      <td>...</td>\n",
       "      <td>IndiGo</td>\n",
       "      <td>1h 15m</td>\n",
       "      <td>1h 05m</td>\n",
       "      <td>direct</td>\n",
       "      <td>direct</td>\n",
       "      <td>0</td>\n",
       "      <td>0</td>\n",
       "      <td>4263</td>\n",
       "      <td>20211227-1625</td>\n",
       "      <td>Best</td>\n",
       "    </tr>\n",
       "    <tr>\n",
       "      <th>8</th>\n",
       "      <td>28/12/2021</td>\n",
       "      <td>28</td>\n",
       "      <td>Tuesday</td>\n",
       "      <td>December</td>\n",
       "      <td>2021</td>\n",
       "      <td>15:45–17:00</td>\n",
       "      <td>BLR Bengaluru</td>\n",
       "      <td>IndiGo</td>\n",
       "      <td>31/1/2021</td>\n",
       "      <td>31</td>\n",
       "      <td>...</td>\n",
       "      <td>IndiGo</td>\n",
       "      <td>1h 15m</td>\n",
       "      <td>1h 10m</td>\n",
       "      <td>direct</td>\n",
       "      <td>direct</td>\n",
       "      <td>0</td>\n",
       "      <td>0</td>\n",
       "      <td>4263</td>\n",
       "      <td>20211227-1625</td>\n",
       "      <td>Best</td>\n",
       "    </tr>\n",
       "    <tr>\n",
       "      <th>9</th>\n",
       "      <td>28/12/2021</td>\n",
       "      <td>28</td>\n",
       "      <td>Tuesday</td>\n",
       "      <td>December</td>\n",
       "      <td>2021</td>\n",
       "      <td>07:05–08:20</td>\n",
       "      <td>BLR Bengaluru</td>\n",
       "      <td>IndiGo</td>\n",
       "      <td>31/1/2021</td>\n",
       "      <td>31</td>\n",
       "      <td>...</td>\n",
       "      <td>IndiGo</td>\n",
       "      <td>1h 15m</td>\n",
       "      <td>1h 10m</td>\n",
       "      <td>direct</td>\n",
       "      <td>direct</td>\n",
       "      <td>0</td>\n",
       "      <td>0</td>\n",
       "      <td>4263</td>\n",
       "      <td>20211227-1625</td>\n",
       "      <td>Best</td>\n",
       "    </tr>\n",
       "    <tr>\n",
       "      <th>10</th>\n",
       "      <td>28/12/2021</td>\n",
       "      <td>28</td>\n",
       "      <td>Tuesday</td>\n",
       "      <td>December</td>\n",
       "      <td>2021</td>\n",
       "      <td>07:05–08:20</td>\n",
       "      <td>BLR Bengaluru</td>\n",
       "      <td>IndiGo</td>\n",
       "      <td>31/1/2021</td>\n",
       "      <td>31</td>\n",
       "      <td>...</td>\n",
       "      <td>IndiGo</td>\n",
       "      <td>1h 15m</td>\n",
       "      <td>1h 10m</td>\n",
       "      <td>direct</td>\n",
       "      <td>direct</td>\n",
       "      <td>0</td>\n",
       "      <td>0</td>\n",
       "      <td>4263</td>\n",
       "      <td>20211227-1625</td>\n",
       "      <td>Best</td>\n",
       "    </tr>\n",
       "    <tr>\n",
       "      <th>11</th>\n",
       "      <td>28/12/2021</td>\n",
       "      <td>28</td>\n",
       "      <td>Tuesday</td>\n",
       "      <td>December</td>\n",
       "      <td>2021</td>\n",
       "      <td>15:45–17:00</td>\n",
       "      <td>BLR Bengaluru</td>\n",
       "      <td>IndiGo</td>\n",
       "      <td>31/1/2021</td>\n",
       "      <td>31</td>\n",
       "      <td>...</td>\n",
       "      <td>IndiGo</td>\n",
       "      <td>1h 15m</td>\n",
       "      <td>1h 10m</td>\n",
       "      <td>direct</td>\n",
       "      <td>direct</td>\n",
       "      <td>0</td>\n",
       "      <td>0</td>\n",
       "      <td>4263</td>\n",
       "      <td>20211227-1625</td>\n",
       "      <td>Best</td>\n",
       "    </tr>\n",
       "    <tr>\n",
       "      <th>12</th>\n",
       "      <td>28/12/2021</td>\n",
       "      <td>28</td>\n",
       "      <td>Tuesday</td>\n",
       "      <td>December</td>\n",
       "      <td>2021</td>\n",
       "      <td>15:45–17:00</td>\n",
       "      <td>BLR Bengaluru</td>\n",
       "      <td>IndiGo</td>\n",
       "      <td>31/1/2021</td>\n",
       "      <td>31</td>\n",
       "      <td>...</td>\n",
       "      <td>SpiceJet</td>\n",
       "      <td>1h 15m</td>\n",
       "      <td>1h 20m</td>\n",
       "      <td>direct</td>\n",
       "      <td>direct</td>\n",
       "      <td>0</td>\n",
       "      <td>0</td>\n",
       "      <td>4272</td>\n",
       "      <td>20211227-1625</td>\n",
       "      <td>Best</td>\n",
       "    </tr>\n",
       "    <tr>\n",
       "      <th>13</th>\n",
       "      <td>28/12/2021</td>\n",
       "      <td>28</td>\n",
       "      <td>Tuesday</td>\n",
       "      <td>December</td>\n",
       "      <td>2021</td>\n",
       "      <td>07:05–08:20</td>\n",
       "      <td>BLR Bengaluru</td>\n",
       "      <td>IndiGo</td>\n",
       "      <td>31/1/2021</td>\n",
       "      <td>31</td>\n",
       "      <td>...</td>\n",
       "      <td>SpiceJet</td>\n",
       "      <td>1h 15m</td>\n",
       "      <td>1h 20m</td>\n",
       "      <td>direct</td>\n",
       "      <td>direct</td>\n",
       "      <td>0</td>\n",
       "      <td>0</td>\n",
       "      <td>4272</td>\n",
       "      <td>20211227-1625</td>\n",
       "      <td>Best</td>\n",
       "    </tr>\n",
       "    <tr>\n",
       "      <th>14</th>\n",
       "      <td>28/12/2021</td>\n",
       "      <td>28</td>\n",
       "      <td>Tuesday</td>\n",
       "      <td>December</td>\n",
       "      <td>2021</td>\n",
       "      <td>07:05–08:20</td>\n",
       "      <td>BLR Bengaluru</td>\n",
       "      <td>IndiGo</td>\n",
       "      <td>31/1/2021</td>\n",
       "      <td>31</td>\n",
       "      <td>...</td>\n",
       "      <td>AirAsia India</td>\n",
       "      <td>1h 15m</td>\n",
       "      <td>1h 10m</td>\n",
       "      <td>direct</td>\n",
       "      <td>direct</td>\n",
       "      <td>0</td>\n",
       "      <td>0</td>\n",
       "      <td>4279</td>\n",
       "      <td>20211227-1625</td>\n",
       "      <td>Best</td>\n",
       "    </tr>\n",
       "    <tr>\n",
       "      <th>15</th>\n",
       "      <td>28/12/2021</td>\n",
       "      <td>28</td>\n",
       "      <td>Tuesday</td>\n",
       "      <td>December</td>\n",
       "      <td>2021</td>\n",
       "      <td>07:05–08:20</td>\n",
       "      <td>BLR Bengaluru</td>\n",
       "      <td>IndiGo</td>\n",
       "      <td>31/1/2021</td>\n",
       "      <td>31</td>\n",
       "      <td>...</td>\n",
       "      <td>IndiGo</td>\n",
       "      <td>1h 15m</td>\n",
       "      <td>1h 00m</td>\n",
       "      <td>direct</td>\n",
       "      <td>direct</td>\n",
       "      <td>0</td>\n",
       "      <td>0</td>\n",
       "      <td>4263</td>\n",
       "      <td>20211227-1622</td>\n",
       "      <td>Cheap</td>\n",
       "    </tr>\n",
       "    <tr>\n",
       "      <th>16</th>\n",
       "      <td>28/12/2021</td>\n",
       "      <td>28</td>\n",
       "      <td>Tuesday</td>\n",
       "      <td>December</td>\n",
       "      <td>2021</td>\n",
       "      <td>15:45–17:00</td>\n",
       "      <td>BLR Bengaluru</td>\n",
       "      <td>IndiGo</td>\n",
       "      <td>31/1/2021</td>\n",
       "      <td>31</td>\n",
       "      <td>...</td>\n",
       "      <td>IndiGo</td>\n",
       "      <td>1h 15m</td>\n",
       "      <td>1h 00m</td>\n",
       "      <td>direct</td>\n",
       "      <td>direct</td>\n",
       "      <td>0</td>\n",
       "      <td>0</td>\n",
       "      <td>4263</td>\n",
       "      <td>20211227-1622</td>\n",
       "      <td>Cheap</td>\n",
       "    </tr>\n",
       "    <tr>\n",
       "      <th>17</th>\n",
       "      <td>28/12/2021</td>\n",
       "      <td>28</td>\n",
       "      <td>Tuesday</td>\n",
       "      <td>December</td>\n",
       "      <td>2021</td>\n",
       "      <td>07:05–08:20</td>\n",
       "      <td>BLR Bengaluru</td>\n",
       "      <td>IndiGo</td>\n",
       "      <td>31/1/2021</td>\n",
       "      <td>31</td>\n",
       "      <td>...</td>\n",
       "      <td>IndiGo</td>\n",
       "      <td>1h 15m</td>\n",
       "      <td>1h 05m</td>\n",
       "      <td>direct</td>\n",
       "      <td>direct</td>\n",
       "      <td>0</td>\n",
       "      <td>0</td>\n",
       "      <td>4263</td>\n",
       "      <td>20211227-1622</td>\n",
       "      <td>Cheap</td>\n",
       "    </tr>\n",
       "    <tr>\n",
       "      <th>18</th>\n",
       "      <td>28/12/2021</td>\n",
       "      <td>28</td>\n",
       "      <td>Tuesday</td>\n",
       "      <td>December</td>\n",
       "      <td>2021</td>\n",
       "      <td>15:45–17:00</td>\n",
       "      <td>BLR Bengaluru</td>\n",
       "      <td>IndiGo</td>\n",
       "      <td>31/1/2021</td>\n",
       "      <td>31</td>\n",
       "      <td>...</td>\n",
       "      <td>IndiGo</td>\n",
       "      <td>1h 15m</td>\n",
       "      <td>1h 05m</td>\n",
       "      <td>direct</td>\n",
       "      <td>direct</td>\n",
       "      <td>0</td>\n",
       "      <td>0</td>\n",
       "      <td>4263</td>\n",
       "      <td>20211227-1622</td>\n",
       "      <td>Cheap</td>\n",
       "    </tr>\n",
       "    <tr>\n",
       "      <th>19</th>\n",
       "      <td>28/12/2021</td>\n",
       "      <td>28</td>\n",
       "      <td>Tuesday</td>\n",
       "      <td>December</td>\n",
       "      <td>2021</td>\n",
       "      <td>07:05–08:20</td>\n",
       "      <td>BLR Bengaluru</td>\n",
       "      <td>IndiGo</td>\n",
       "      <td>31/1/2021</td>\n",
       "      <td>31</td>\n",
       "      <td>...</td>\n",
       "      <td>IndiGo</td>\n",
       "      <td>1h 15m</td>\n",
       "      <td>1h 05m</td>\n",
       "      <td>direct</td>\n",
       "      <td>direct</td>\n",
       "      <td>0</td>\n",
       "      <td>0</td>\n",
       "      <td>4263</td>\n",
       "      <td>20211227-1622</td>\n",
       "      <td>Cheap</td>\n",
       "    </tr>\n",
       "  </tbody>\n",
       "</table>\n",
       "<p>20 rows × 25 columns</p>\n",
       "</div>"
      ],
      "text/plain": [
       "      Out_Date  Out_Day Out_Weekday Out_Month  out_Year     Out_Time  \\\n",
       "0   28/12/2021       28     Tuesday  December      2021  07:05–08:20   \n",
       "1   28/12/2021       28     Tuesday  December      2021  15:45–17:00   \n",
       "2   28/12/2021       28     Tuesday  December      2021  07:05–08:20   \n",
       "3   28/12/2021       28     Tuesday  December      2021  15:45–17:00   \n",
       "4   28/12/2021       28     Tuesday  December      2021  07:05–08:20   \n",
       "5   28/12/2021       28     Tuesday  December      2021  15:45–17:00   \n",
       "6   28/12/2021       28     Tuesday  December      2021  15:45–17:00   \n",
       "7   28/12/2021       28     Tuesday  December      2021  07:05–08:20   \n",
       "8   28/12/2021       28     Tuesday  December      2021  15:45–17:00   \n",
       "9   28/12/2021       28     Tuesday  December      2021  07:05–08:20   \n",
       "10  28/12/2021       28     Tuesday  December      2021  07:05–08:20   \n",
       "11  28/12/2021       28     Tuesday  December      2021  15:45–17:00   \n",
       "12  28/12/2021       28     Tuesday  December      2021  15:45–17:00   \n",
       "13  28/12/2021       28     Tuesday  December      2021  07:05–08:20   \n",
       "14  28/12/2021       28     Tuesday  December      2021  07:05–08:20   \n",
       "15  28/12/2021       28     Tuesday  December      2021  07:05–08:20   \n",
       "16  28/12/2021       28     Tuesday  December      2021  15:45–17:00   \n",
       "17  28/12/2021       28     Tuesday  December      2021  07:05–08:20   \n",
       "18  28/12/2021       28     Tuesday  December      2021  15:45–17:00   \n",
       "19  28/12/2021       28     Tuesday  December      2021  07:05–08:20   \n",
       "\n",
       "       Out_Cities Out_Airline Return_Date  Return_Day  ... Return_Airline  \\\n",
       "0   BLR Bengaluru      IndiGo   31/1/2021          31  ...         IndiGo   \n",
       "1   BLR Bengaluru      IndiGo   31/1/2021          31  ...         IndiGo   \n",
       "2   BLR Bengaluru      IndiGo   31/1/2021          31  ...         IndiGo   \n",
       "3   BLR Bengaluru      IndiGo   31/1/2021          31  ...         IndiGo   \n",
       "4   BLR Bengaluru      IndiGo   31/1/2021          31  ...         IndiGo   \n",
       "5   BLR Bengaluru      IndiGo   31/1/2021          31  ...         IndiGo   \n",
       "6   BLR Bengaluru      IndiGo   31/1/2021          31  ...         IndiGo   \n",
       "7   BLR Bengaluru      IndiGo   31/1/2021          31  ...         IndiGo   \n",
       "8   BLR Bengaluru      IndiGo   31/1/2021          31  ...         IndiGo   \n",
       "9   BLR Bengaluru      IndiGo   31/1/2021          31  ...         IndiGo   \n",
       "10  BLR Bengaluru      IndiGo   31/1/2021          31  ...         IndiGo   \n",
       "11  BLR Bengaluru      IndiGo   31/1/2021          31  ...         IndiGo   \n",
       "12  BLR Bengaluru      IndiGo   31/1/2021          31  ...       SpiceJet   \n",
       "13  BLR Bengaluru      IndiGo   31/1/2021          31  ...       SpiceJet   \n",
       "14  BLR Bengaluru      IndiGo   31/1/2021          31  ...  AirAsia India   \n",
       "15  BLR Bengaluru      IndiGo   31/1/2021          31  ...         IndiGo   \n",
       "16  BLR Bengaluru      IndiGo   31/1/2021          31  ...         IndiGo   \n",
       "17  BLR Bengaluru      IndiGo   31/1/2021          31  ...         IndiGo   \n",
       "18  BLR Bengaluru      IndiGo   31/1/2021          31  ...         IndiGo   \n",
       "19  BLR Bengaluru      IndiGo   31/1/2021          31  ...         IndiGo   \n",
       "\n",
       "   Out_Travel_Time  Return_Travel_Time Out_Journey_Type Return_Journey_Type  \\\n",
       "0           1h 15m              1h 00m           direct              direct   \n",
       "1           1h 15m              1h 00m           direct              direct   \n",
       "2           1h 15m              1h 05m           direct              direct   \n",
       "3           1h 15m              1h 05m           direct              direct   \n",
       "4           1h 15m              1h 05m           direct              direct   \n",
       "5           1h 15m              1h 05m           direct              direct   \n",
       "6           1h 15m              1h 05m           direct              direct   \n",
       "7           1h 15m              1h 05m           direct              direct   \n",
       "8           1h 15m              1h 10m           direct              direct   \n",
       "9           1h 15m              1h 10m           direct              direct   \n",
       "10          1h 15m              1h 10m           direct              direct   \n",
       "11          1h 15m              1h 10m           direct              direct   \n",
       "12          1h 15m              1h 20m           direct              direct   \n",
       "13          1h 15m              1h 20m           direct              direct   \n",
       "14          1h 15m              1h 10m           direct              direct   \n",
       "15          1h 15m              1h 00m           direct              direct   \n",
       "16          1h 15m              1h 00m           direct              direct   \n",
       "17          1h 15m              1h 05m           direct              direct   \n",
       "18          1h 15m              1h 05m           direct              direct   \n",
       "19          1h 15m              1h 05m           direct              direct   \n",
       "\n",
       "   Out_Stop_Cities Return_Stop_Cities Price      timestamp   sort  \n",
       "0                0                  0  4263  20211227-1625   Best  \n",
       "1                0                  0  4263  20211227-1625   Best  \n",
       "2                0                  0  4263  20211227-1625   Best  \n",
       "3                0                  0  4263  20211227-1625   Best  \n",
       "4                0                  0  4263  20211227-1625   Best  \n",
       "5                0                  0  4263  20211227-1625   Best  \n",
       "6                0                  0  4263  20211227-1625   Best  \n",
       "7                0                  0  4263  20211227-1625   Best  \n",
       "8                0                  0  4263  20211227-1625   Best  \n",
       "9                0                  0  4263  20211227-1625   Best  \n",
       "10               0                  0  4263  20211227-1625   Best  \n",
       "11               0                  0  4263  20211227-1625   Best  \n",
       "12               0                  0  4272  20211227-1625   Best  \n",
       "13               0                  0  4272  20211227-1625   Best  \n",
       "14               0                  0  4279  20211227-1625   Best  \n",
       "15               0                  0  4263  20211227-1622  Cheap  \n",
       "16               0                  0  4263  20211227-1622  Cheap  \n",
       "17               0                  0  4263  20211227-1622  Cheap  \n",
       "18               0                  0  4263  20211227-1622  Cheap  \n",
       "19               0                  0  4263  20211227-1622  Cheap  \n",
       "\n",
       "[20 rows x 25 columns]"
      ]
     },
     "execution_count": 3,
     "metadata": {},
     "output_type": "execute_result"
    }
   ],
   "source": [
    "# Top 20 records \n",
    "\n",
    "df.head(20)"
   ]
  },
  {
   "cell_type": "markdown",
   "metadata": {},
   "source": [
    "### Some basic information about our dataset"
   ]
  },
  {
   "cell_type": "code",
   "execution_count": 4,
   "metadata": {},
   "outputs": [
    {
     "name": "stdout",
     "output_type": "stream",
     "text": [
      "The shape of the dataset is:  (1069, 25)\n"
     ]
    }
   ],
   "source": [
    "# Shape of the dataset\n",
    "\n",
    "print('The shape of the dataset is: ',df.shape)"
   ]
  },
  {
   "cell_type": "code",
   "execution_count": 5,
   "metadata": {},
   "outputs": [
    {
     "data": {
      "text/plain": [
       "Index(['Out_Date', 'Out_Day', 'Out_Weekday', 'Out_Month', 'out_Year',\n",
       "       'Out_Time', 'Out_Cities', 'Out_Airline', 'Return_Date', 'Return_Day',\n",
       "       'Return_Weekday', 'Return_Month', 'Return_Year', 'Return_Time',\n",
       "       'Return_Cities', 'Return_Airline', 'Out_Travel_Time',\n",
       "       'Return_Travel_Time', 'Out_Journey_Type', 'Return_Journey_Type',\n",
       "       'Out_Stop_Cities', 'Return_Stop_Cities', 'Price', 'timestamp', 'sort'],\n",
       "      dtype='object')"
      ]
     },
     "execution_count": 5,
     "metadata": {},
     "output_type": "execute_result"
    }
   ],
   "source": [
    "# Columns name\n",
    "\n",
    "df.columns"
   ]
  },
  {
   "cell_type": "code",
   "execution_count": 6,
   "metadata": {},
   "outputs": [
    {
     "data": {
      "text/html": [
       "<div>\n",
       "<style scoped>\n",
       "    .dataframe tbody tr th:only-of-type {\n",
       "        vertical-align: middle;\n",
       "    }\n",
       "\n",
       "    .dataframe tbody tr th {\n",
       "        vertical-align: top;\n",
       "    }\n",
       "\n",
       "    .dataframe thead th {\n",
       "        text-align: right;\n",
       "    }\n",
       "</style>\n",
       "<table border=\"1\" class=\"dataframe\">\n",
       "  <thead>\n",
       "    <tr style=\"text-align: right;\">\n",
       "      <th></th>\n",
       "      <th>Out_Day</th>\n",
       "      <th>out_Year</th>\n",
       "      <th>Return_Day</th>\n",
       "      <th>Return_Year</th>\n",
       "      <th>Price</th>\n",
       "    </tr>\n",
       "  </thead>\n",
       "  <tbody>\n",
       "    <tr>\n",
       "      <th>count</th>\n",
       "      <td>1069.000000</td>\n",
       "      <td>1069.0</td>\n",
       "      <td>1069.000000</td>\n",
       "      <td>1069.0</td>\n",
       "      <td>1069.000000</td>\n",
       "    </tr>\n",
       "    <tr>\n",
       "      <th>mean</th>\n",
       "      <td>15.235734</td>\n",
       "      <td>2021.0</td>\n",
       "      <td>20.082320</td>\n",
       "      <td>2021.0</td>\n",
       "      <td>7076.071094</td>\n",
       "    </tr>\n",
       "    <tr>\n",
       "      <th>std</th>\n",
       "      <td>11.780554</td>\n",
       "      <td>0.0</td>\n",
       "      <td>10.859623</td>\n",
       "      <td>0.0</td>\n",
       "      <td>2693.102874</td>\n",
       "    </tr>\n",
       "    <tr>\n",
       "      <th>min</th>\n",
       "      <td>1.000000</td>\n",
       "      <td>2021.0</td>\n",
       "      <td>1.000000</td>\n",
       "      <td>2021.0</td>\n",
       "      <td>3329.000000</td>\n",
       "    </tr>\n",
       "    <tr>\n",
       "      <th>25%</th>\n",
       "      <td>2.000000</td>\n",
       "      <td>2021.0</td>\n",
       "      <td>10.000000</td>\n",
       "      <td>2021.0</td>\n",
       "      <td>5026.000000</td>\n",
       "    </tr>\n",
       "    <tr>\n",
       "      <th>50%</th>\n",
       "      <td>12.000000</td>\n",
       "      <td>2021.0</td>\n",
       "      <td>23.000000</td>\n",
       "      <td>2021.0</td>\n",
       "      <td>6475.000000</td>\n",
       "    </tr>\n",
       "    <tr>\n",
       "      <th>75%</th>\n",
       "      <td>28.000000</td>\n",
       "      <td>2021.0</td>\n",
       "      <td>30.000000</td>\n",
       "      <td>2021.0</td>\n",
       "      <td>8839.000000</td>\n",
       "    </tr>\n",
       "    <tr>\n",
       "      <th>max</th>\n",
       "      <td>31.000000</td>\n",
       "      <td>2021.0</td>\n",
       "      <td>31.000000</td>\n",
       "      <td>2021.0</td>\n",
       "      <td>18918.000000</td>\n",
       "    </tr>\n",
       "  </tbody>\n",
       "</table>\n",
       "</div>"
      ],
      "text/plain": [
       "           Out_Day  out_Year   Return_Day  Return_Year         Price\n",
       "count  1069.000000    1069.0  1069.000000       1069.0   1069.000000\n",
       "mean     15.235734    2021.0    20.082320       2021.0   7076.071094\n",
       "std      11.780554       0.0    10.859623          0.0   2693.102874\n",
       "min       1.000000    2021.0     1.000000       2021.0   3329.000000\n",
       "25%       2.000000    2021.0    10.000000       2021.0   5026.000000\n",
       "50%      12.000000    2021.0    23.000000       2021.0   6475.000000\n",
       "75%      28.000000    2021.0    30.000000       2021.0   8839.000000\n",
       "max      31.000000    2021.0    31.000000       2021.0  18918.000000"
      ]
     },
     "execution_count": 6,
     "metadata": {},
     "output_type": "execute_result"
    }
   ],
   "source": [
    "# Description of the data\n",
    "\n",
    "df.describe()"
   ]
  },
  {
   "cell_type": "code",
   "execution_count": 7,
   "metadata": {},
   "outputs": [
    {
     "name": "stdout",
     "output_type": "stream",
     "text": [
      "<class 'pandas.core.frame.DataFrame'>\n",
      "RangeIndex: 1069 entries, 0 to 1068\n",
      "Data columns (total 25 columns):\n",
      " #   Column               Non-Null Count  Dtype \n",
      "---  ------               --------------  ----- \n",
      " 0   Out_Date             1069 non-null   object\n",
      " 1   Out_Day              1069 non-null   int64 \n",
      " 2   Out_Weekday          1069 non-null   object\n",
      " 3   Out_Month            1069 non-null   object\n",
      " 4   out_Year             1069 non-null   int64 \n",
      " 5   Out_Time             1069 non-null   object\n",
      " 6   Out_Cities           1069 non-null   object\n",
      " 7   Out_Airline          1069 non-null   object\n",
      " 8   Return_Date          1069 non-null   object\n",
      " 9   Return_Day           1069 non-null   int64 \n",
      " 10  Return_Weekday       1069 non-null   object\n",
      " 11  Return_Month         1069 non-null   object\n",
      " 12  Return_Year          1069 non-null   int64 \n",
      " 13  Return_Time          1069 non-null   object\n",
      " 14  Return_Cities        1069 non-null   object\n",
      " 15  Return_Airline       1069 non-null   object\n",
      " 16  Out_Travel_Time      1069 non-null   object\n",
      " 17  Return_Travel_Time   1069 non-null   object\n",
      " 18  Out_Journey_Type     1069 non-null   object\n",
      " 19  Return_Journey_Type  1069 non-null   object\n",
      " 20  Out_Stop_Cities      1069 non-null   object\n",
      " 21  Return_Stop_Cities   1069 non-null   object\n",
      " 22  Price                1069 non-null   int64 \n",
      " 23  timestamp            1069 non-null   object\n",
      " 24  sort                 1069 non-null   object\n",
      "dtypes: int64(5), object(20)\n",
      "memory usage: 208.9+ KB\n"
     ]
    }
   ],
   "source": [
    "# information about the dataset.\n",
    "\n",
    "df.info()"
   ]
  },
  {
   "cell_type": "code",
   "execution_count": 8,
   "metadata": {},
   "outputs": [
    {
     "data": {
      "text/plain": [
       "Out_Date               0\n",
       "Out_Day                0\n",
       "Out_Weekday            0\n",
       "Out_Month              0\n",
       "out_Year               0\n",
       "Out_Time               0\n",
       "Out_Cities             0\n",
       "Out_Airline            0\n",
       "Return_Date            0\n",
       "Return_Day             0\n",
       "Return_Weekday         0\n",
       "Return_Month           0\n",
       "Return_Year            0\n",
       "Return_Time            0\n",
       "Return_Cities          0\n",
       "Return_Airline         0\n",
       "Out_Travel_Time        0\n",
       "Return_Travel_Time     0\n",
       "Out_Journey_Type       0\n",
       "Return_Journey_Type    0\n",
       "Out_Stop_Cities        0\n",
       "Return_Stop_Cities     0\n",
       "Price                  0\n",
       "timestamp              0\n",
       "sort                   0\n",
       "dtype: int64"
      ]
     },
     "execution_count": 8,
     "metadata": {},
     "output_type": "execute_result"
    }
   ],
   "source": [
    "# Checking is there any missing values or not.\n",
    "\n",
    "df.isnull().sum()"
   ]
  },
  {
   "cell_type": "markdown",
   "metadata": {},
   "source": [
    "Conclusion:\n",
    "    \n",
    "There is no missing values in our dataset."
   ]
  },
  {
   "cell_type": "markdown",
   "metadata": {},
   "source": [
    "# Data Visualization"
   ]
  },
  {
   "cell_type": "code",
   "execution_count": 10,
   "metadata": {},
   "outputs": [],
   "source": [
    "df['Out_Stop_Cities']=df['Out_Stop_Cities'].replace(['0'],'nonstop')"
   ]
  },
  {
   "cell_type": "code",
   "execution_count": 11,
   "metadata": {},
   "outputs": [
    {
     "data": {
      "text/plain": [
       "nonstop    899\n",
       "DEL         47\n",
       "BOM         43\n",
       "HYD         39\n",
       "BLR         25\n",
       "PNQ          8\n",
       "RPR          3\n",
       "LKO          3\n",
       "JAI          1\n",
       "MAA          1\n",
       "Name: Out_Stop_Cities, dtype: int64"
      ]
     },
     "execution_count": 11,
     "metadata": {},
     "output_type": "execute_result"
    }
   ],
   "source": [
    "df['Out_Stop_Cities'].value_counts()"
   ]
  },
  {
   "cell_type": "code",
   "execution_count": 11,
   "metadata": {},
   "outputs": [
    {
     "data": {
      "text/plain": [
       "<AxesSubplot:xlabel='Out_Stop_Cities', ylabel='count'>"
      ]
     },
     "execution_count": 11,
     "metadata": {},
     "output_type": "execute_result"
    },
    {
     "data": {
      "image/png": "[encoded data removed]",
      "text/plain": [
       "<Figure size 864x720 with 1 Axes>"
      ]
     },
     "metadata": {
      "needs_background": "light"
     },
     "output_type": "display_data"
    }
   ],
   "source": [
    "# Count plot of 'out_stop_cities'.\n",
    "\n",
    "plt.figure(figsize=(12,10))\n",
    "sns.countplot(x='Out_Stop_Cities',data=df)"
   ]
  },
  {
   "cell_type": "code",
   "execution_count": 32,
   "metadata": {},
   "outputs": [],
   "source": [
    "df['Return_Stop_Cities']=df['Return_Stop_Cities'].replace(['0'],'nonstop')"
   ]
  },
  {
   "cell_type": "code",
   "execution_count": 13,
   "metadata": {},
   "outputs": [
    {
     "data": {
      "text/plain": [
       "nonstop    899\n",
       "DEL         47\n",
       "BOM         43\n",
       "HYD         39\n",
       "BLR         25\n",
       "PNQ          8\n",
       "LKO          3\n",
       "RPR          3\n",
       "JAI          1\n",
       "MAA          1\n",
       "Name: Return_Stop_Cities, dtype: int64"
      ]
     },
     "execution_count": 13,
     "metadata": {},
     "output_type": "execute_result"
    }
   ],
   "source": [
    "df['Return_Stop_Cities'].value_counts()"
   ]
  },
  {
   "cell_type": "code",
   "execution_count": 14,
   "metadata": {},
   "outputs": [
    {
     "data": {
      "text/plain": [
       "<AxesSubplot:xlabel='Return_Stop_Cities', ylabel='count'>"
      ]
     },
     "execution_count": 14,
     "metadata": {},
     "output_type": "execute_result"
    },
    {
     "data": {
      "image/png": "[encoded data removed]",
      "text/plain": [
       "<Figure size 864x720 with 1 Axes>"
      ]
     },
     "metadata": {
      "needs_background": "light"
     },
     "output_type": "display_data"
    }
   ],
   "source": [
    "# Count plot of 'Return_stop_cities'.\n",
    "\n",
    "plt.figure(figsize=(12,10))\n",
    "sns.countplot(x='Return_Stop_Cities',data=df)"
   ]
  },
  {
   "cell_type": "markdown",
   "metadata": {},
   "source": [
    "Conclusion:\n",
    "    \n",
    "Maximum (more than 900) journey is nonstop journey type from source to destination."
   ]
  },
  {
   "cell_type": "code",
   "execution_count": 15,
   "metadata": {},
   "outputs": [
    {
     "data": {
      "text/plain": [
       "<AxesSubplot:xlabel='Out_Airline', ylabel='count'>"
      ]
     },
     "execution_count": 15,
     "metadata": {},
     "output_type": "execute_result"
    },
    {
     "data": {
      "image/png": "[encoded data removed]",
      "text/plain": [
       "<Figure size 720x576 with 1 Axes>"
      ]
     },
     "metadata": {
      "needs_background": "light"
     },
     "output_type": "display_data"
    }
   ],
   "source": [
    "# countplot of Out_Airline\n",
    "\n",
    "plt.figure(figsize=(10,8))\n",
    "sns.countplot(x='Out_Airline',data=df,palette='bright')"
   ]
  },
  {
   "cell_type": "code",
   "execution_count": 16,
   "metadata": {},
   "outputs": [
    {
     "data": {
      "text/plain": [
       "<AxesSubplot:xlabel='Return_Airline', ylabel='count'>"
      ]
     },
     "execution_count": 16,
     "metadata": {},
     "output_type": "execute_result"
    },
    {
     "data": {
      "image/png": "[encoded data removed]",
      "text/plain": [
       "<Figure size 720x576 with 1 Axes>"
      ]
     },
     "metadata": {
      "needs_background": "light"
     },
     "output_type": "display_data"
    }
   ],
   "source": [
    "# countplot of Return_Airline\n",
    "\n",
    "plt.figure(figsize=(10,8))\n",
    "sns.countplot(x='Return_Airline',data=df)"
   ]
  },
  {
   "cell_type": "markdown",
   "metadata": {},
   "source": [
    "Conclusion:\n",
    "    \n",
    "Maximum trip (Out and return both) was done by the airline 'IndiGo'"
   ]
  },
  {
   "cell_type": "code",
   "execution_count": 17,
   "metadata": {},
   "outputs": [
    {
     "data": {
      "text/plain": [
       "<AxesSubplot:xlabel='Out_Journey_Type', ylabel='count'>"
      ]
     },
     "execution_count": 17,
     "metadata": {},
     "output_type": "execute_result"
    },
    {
     "data": {
      "image/png": "[encoded data removed]",
      "text/plain": [
       "<Figure size 432x288 with 1 Axes>"
      ]
     },
     "metadata": {
      "needs_background": "light"
     },
     "output_type": "display_data"
    }
   ],
   "source": [
    "# how is the journey type find out using count plot \n",
    "\n",
    "# Out_Journey_Type\n",
    "sns.countplot(x='Out_Journey_Type',data=df,palette='deep')\n"
   ]
  },
  {
   "cell_type": "code",
   "execution_count": 18,
   "metadata": {},
   "outputs": [
    {
     "data": {
      "text/plain": [
       "<AxesSubplot:xlabel='Return_Journey_Type', ylabel='count'>"
      ]
     },
     "execution_count": 18,
     "metadata": {},
     "output_type": "execute_result"
    },
    {
     "data": {
      "image/png": "[encoded data removed]",
      "text/plain": [
       "<Figure size 432x288 with 1 Axes>"
      ]
     },
     "metadata": {
      "needs_background": "light"
     },
     "output_type": "display_data"
    }
   ],
   "source": [
    "# Return_Journey_Type\n",
    "sns.countplot(x='Return_Journey_Type',data=df)"
   ]
  },
  {
   "cell_type": "markdown",
   "metadata": {},
   "source": [
    "Conclusion:\n",
    "    \n",
    "Maximum Journey type(Out and Return both) was happen directly from source to destination."
   ]
  },
  {
   "cell_type": "code",
   "execution_count": 19,
   "metadata": {},
   "outputs": [
    {
     "data": {
      "text/plain": [
       "<AxesSubplot:xlabel='Out_Weekday', ylabel='count'>"
      ]
     },
     "execution_count": 19,
     "metadata": {},
     "output_type": "execute_result"
    },
    {
     "data": {
      "image/png": "[encoded data removed]",
      "text/plain": [
       "<Figure size 720x576 with 1 Axes>"
      ]
     },
     "metadata": {
      "needs_background": "light"
     },
     "output_type": "display_data"
    }
   ],
   "source": [
    "# which Weekday the journey happen maximum time?\n",
    "\n",
    "plt.figure(figsize=(10,8))\n",
    "sns.countplot(x='Out_Weekday',data=df,palette='rainbow')"
   ]
  },
  {
   "cell_type": "markdown",
   "metadata": {},
   "source": [
    "Conclusion:\n",
    "    \n",
    "1. Maximum journey started on the weekday 'Tuesday'.\n",
    "\n",
    "2. Minimum journey started on the weekday 'Sunday'."
   ]
  },
  {
   "cell_type": "code",
   "execution_count": 20,
   "metadata": {},
   "outputs": [
    {
     "data": {
      "text/plain": [
       "<AxesSubplot:xlabel='Return_Weekday', ylabel='count'>"
      ]
     },
     "execution_count": 20,
     "metadata": {},
     "output_type": "execute_result"
    },
    {
     "data": {
      "image/png": "[encoded data removed]",
      "text/plain": [
       "<Figure size 720x576 with 1 Axes>"
      ]
     },
     "metadata": {
      "needs_background": "light"
     },
     "output_type": "display_data"
    }
   ],
   "source": [
    "plt.figure(figsize=(10,8))\n",
    "sns.countplot(x='Return_Weekday',data=df,palette='rainbow')"
   ]
  },
  {
   "cell_type": "markdown",
   "metadata": {},
   "source": [
    "Conclusion:\n",
    "    \n",
    "1. Maximum time the journey end on the weekday 'Sunday'.\n",
    "\n",
    "2. Minimum time the journey end on the weekday  'Saturday'."
   ]
  },
  {
   "cell_type": "code",
   "execution_count": 21,
   "metadata": {},
   "outputs": [
    {
     "data": {
      "text/plain": [
       "<AxesSubplot:xlabel='Out_Month', ylabel='count'>"
      ]
     },
     "execution_count": 21,
     "metadata": {},
     "output_type": "execute_result"
    },
    {
     "data": {
      "image/png": "[encoded data removed]",
      "text/plain": [
       "<Figure size 720x576 with 1 Axes>"
      ]
     },
     "metadata": {
      "needs_background": "light"
     },
     "output_type": "display_data"
    }
   ],
   "source": [
    "# which Month the journey happen maximum time?\n",
    "\n",
    "# for Out_month\n",
    "plt.figure(figsize=(10,8))\n",
    "sns.countplot(x='Out_Month',data=df,palette='pastel')"
   ]
  },
  {
   "cell_type": "markdown",
   "metadata": {},
   "source": [
    "Conclusion:\n",
    "    \n",
    "1.  Maximum journey happened in the month of 'December' i.e. people preferred winter season for journey."
   ]
  },
  {
   "cell_type": "code",
   "execution_count": 22,
   "metadata": {},
   "outputs": [
    {
     "data": {
      "text/plain": [
       "<AxesSubplot:xlabel='Return_Month', ylabel='count'>"
      ]
     },
     "execution_count": 22,
     "metadata": {},
     "output_type": "execute_result"
    },
    {
     "data": {
      "image/png": "[encoded data removed]",
      "text/plain": [
       "<Figure size 720x576 with 1 Axes>"
      ]
     },
     "metadata": {
      "needs_background": "light"
     },
     "output_type": "display_data"
    }
   ],
   "source": [
    "# for return_month\n",
    "\n",
    "plt.figure(figsize=(10,8))\n",
    "sns.countplot(x='Return_Month',data=df,palette='pastel')"
   ]
  },
  {
   "cell_type": "markdown",
   "metadata": {},
   "source": [
    "Conclusion:\n",
    "    \n",
    "Maximum return_journey happened in the month of 'February'."
   ]
  },
  {
   "cell_type": "code",
   "execution_count": 23,
   "metadata": {},
   "outputs": [
    {
     "data": {
      "text/plain": [
       "<AxesSubplot:xlabel='Out_Cities', ylabel='count'>"
      ]
     },
     "execution_count": 23,
     "metadata": {},
     "output_type": "execute_result"
    },
    {
     "data": {
      "image/png": "[encoded data removed]",
      "text/plain": [
       "<Figure size 1296x576 with 1 Axes>"
      ]
     },
     "metadata": {
      "needs_background": "light"
     },
     "output_type": "display_data"
    }
   ],
   "source": [
    "# In which city the maximum time trip happen?\n",
    "\n",
    "# For Out cities\n",
    "plt.figure(figsize=(18,8))\n",
    "sns.countplot(x='Out_Cities',data=df,palette='colorblind')"
   ]
  },
  {
   "cell_type": "markdown",
   "metadata": {},
   "source": [
    "Conclusion:\n",
    "    \n",
    "Maximum time the trip done from the city 'DEL Indira'."
   ]
  },
  {
   "cell_type": "code",
   "execution_count": 24,
   "metadata": {},
   "outputs": [
    {
     "data": {
      "text/plain": [
       "<AxesSubplot:xlabel='Return_Cities', ylabel='count'>"
      ]
     },
     "execution_count": 24,
     "metadata": {},
     "output_type": "execute_result"
    },
    {
     "data": {
      "image/png": "[encoded data removed]",
      "text/plain": [
       "<Figure size 1584x720 with 1 Axes>"
      ]
     },
     "metadata": {
      "needs_background": "light"
     },
     "output_type": "display_data"
    }
   ],
   "source": [
    "# Return Cities\n",
    "\n",
    "plt.figure(figsize=(22,10))\n",
    "sns.countplot(x='Return_Cities',data=df,palette='colorblind')"
   ]
  },
  {
   "cell_type": "markdown",
   "metadata": {},
   "source": [
    "Conclusion:\n",
    "\n",
    "Maximum time the airline return at the city 'BBI Bhubaneswar'."
   ]
  },
  {
   "cell_type": "markdown",
   "metadata": {},
   "source": [
    "#### Bi-variate analysis"
   ]
  },
  {
   "cell_type": "code",
   "execution_count": 25,
   "metadata": {},
   "outputs": [
    {
     "data": {
      "text/plain": [
       "<AxesSubplot:xlabel='Out_Airline', ylabel='Price'>"
      ]
     },
     "execution_count": 25,
     "metadata": {},
     "output_type": "execute_result"
    },
    {
     "data": {
      "image/png": "[encoded data removed]",
      "text/plain": [
       "<Figure size 720x576 with 1 Axes>"
      ]
     },
     "metadata": {
      "needs_background": "light"
     },
     "output_type": "display_data"
    }
   ],
   "source": [
    "# Price vs Out_Airline\n",
    "\n",
    "plt.figure(figsize=(10,8))\n",
    "sns.boxplot(x='Out_Airline',y='Price',data=df)"
   ]
  },
  {
   "cell_type": "markdown",
   "metadata": {},
   "source": [
    "Conclusion:\n",
    "    \n",
    "1. For Out_Airline 'Indigo'  have minimum price i.e below 4000.\n",
    "\n",
    "2. For Out_Airline 'AirAsia India'  have maximum price i.e more than  14000."
   ]
  },
  {
   "cell_type": "code",
   "execution_count": 26,
   "metadata": {},
   "outputs": [
    {
     "data": {
      "text/plain": [
       "<AxesSubplot:xlabel='Return_Airline', ylabel='Price'>"
      ]
     },
     "execution_count": 26,
     "metadata": {},
     "output_type": "execute_result"
    },
    {
     "data": {
      "image/png": "[encoded data removed]",
      "text/plain": [
       "<Figure size 720x576 with 1 Axes>"
      ]
     },
     "metadata": {
      "needs_background": "light"
     },
     "output_type": "display_data"
    }
   ],
   "source": [
    "# Price vs Return_Airline\n",
    "\n",
    "plt.figure(figsize=(10,8))\n",
    "sns.boxplot(x='Return_Airline',y='Price',data=df)"
   ]
  },
  {
   "cell_type": "markdown",
   "metadata": {},
   "source": [
    "Conclusion:\n",
    "\n",
    "1. For Return_Airline 'Indigo' have minimum price i.e below 4000.\n",
    "\n",
    "2. For Return_Airline 'AirAsia India' have maximum price i.e more than 14000."
   ]
  },
  {
   "cell_type": "markdown",
   "metadata": {},
   "source": [
    "# Feature Engineering"
   ]
  },
  {
   "cell_type": "code",
   "execution_count": 15,
   "metadata": {},
   "outputs": [
    {
     "data": {
      "text/plain": [
       "IndiGo               529\n",
       "GoFirst              214\n",
       "Air India            108\n",
       "Vistara              108\n",
       "AirAsia India         72\n",
       "Multiple Airlines     33\n",
       "SpiceJet               5\n",
       "Name: Out_Airline, dtype: int64"
      ]
     },
     "execution_count": 15,
     "metadata": {},
     "output_type": "execute_result"
    }
   ],
   "source": [
    "df['Out_Airline'].value_counts()"
   ]
  },
  {
   "cell_type": "code",
   "execution_count": 16,
   "metadata": {},
   "outputs": [],
   "source": [
    "# Convert 'Out_Airlines' from object to int datatype by using mapping.\n",
    "\n",
    "df['Out_Airline']=df['Out_Airline'].map({'IndiGo':1,'GoFirst':2,'Air India':3,'Vistara':4,'AirAsia India':5,'Multiple Airlines':6,'SpiceJet':7}).astype('int')"
   ]
  },
  {
   "cell_type": "code",
   "execution_count": 17,
   "metadata": {},
   "outputs": [
    {
     "data": {
      "text/plain": [
       "IndiGo               587\n",
       "GoFirst              142\n",
       "Air India            114\n",
       "AirAsia India        110\n",
       "Vistara               52\n",
       "Multiple Airlines     33\n",
       "SpiceJet              31\n",
       "Name: Return_Airline, dtype: int64"
      ]
     },
     "execution_count": 17,
     "metadata": {},
     "output_type": "execute_result"
    }
   ],
   "source": [
    "df['Return_Airline'].value_counts()"
   ]
  },
  {
   "cell_type": "code",
   "execution_count": 18,
   "metadata": {},
   "outputs": [],
   "source": [
    "# Convert 'Return_Airlines' from object to int datatype by using mapping.\n",
    "\n",
    "df['Return_Airline']=df['Return_Airline'].map({'IndiGo':1,'GoFirst':2,'Air India':3,'Vistara':4,'AirAsia India':5,'Multiple Airlines':6,'SpiceJet':7}).astype('int')"
   ]
  },
  {
   "cell_type": "code",
   "execution_count": 19,
   "metadata": {},
   "outputs": [
    {
     "data": {
      "text/plain": [
       "1    587\n",
       "2    142\n",
       "3    114\n",
       "5    110\n",
       "4     52\n",
       "6     33\n",
       "7     31\n",
       "Name: Return_Airline, dtype: int64"
      ]
     },
     "execution_count": 19,
     "metadata": {},
     "output_type": "execute_result"
    }
   ],
   "source": [
    "df['Return_Airline'].value_counts()"
   ]
  },
  {
   "cell_type": "code",
   "execution_count": 20,
   "metadata": {},
   "outputs": [
    {
     "data": {
      "text/plain": [
       "Tuesday      470\n",
       "Friday       222\n",
       "Saturday     192\n",
       "Thursday     117\n",
       "Wednesday     33\n",
       "Sunday        18\n",
       "Monday        17\n",
       "Name: Out_Weekday, dtype: int64"
      ]
     },
     "execution_count": 20,
     "metadata": {},
     "output_type": "execute_result"
    }
   ],
   "source": [
    "# Convert  'Out_Weekday' datatype from object to integer.\n",
    "\n",
    "df['Out_Weekday'].value_counts()"
   ]
  },
  {
   "cell_type": "code",
   "execution_count": 21,
   "metadata": {},
   "outputs": [],
   "source": [
    "df['Out_Weekday']=df['Out_Weekday'].map({'Monday':1,'Tuesday':2,'Wednesday':3,'Thursday':4,'Friday':5,'Saturday':6,'Sunday':7}).astype('int')"
   ]
  },
  {
   "cell_type": "code",
   "execution_count": 22,
   "metadata": {},
   "outputs": [
    {
     "data": {
      "text/plain": [
       "Sunday       340\n",
       "Tuesday      284\n",
       "Friday       170\n",
       "Wednesday    164\n",
       "Monday        42\n",
       "Thursday      40\n",
       "Saturday      29\n",
       "Name: Return_Weekday, dtype: int64"
      ]
     },
     "execution_count": 22,
     "metadata": {},
     "output_type": "execute_result"
    }
   ],
   "source": [
    "# Convert  'Return_Weekday' datatype from object to integer.\n",
    "\n",
    "df['Return_Weekday'].value_counts()"
   ]
  },
  {
   "cell_type": "code",
   "execution_count": 23,
   "metadata": {},
   "outputs": [],
   "source": [
    "df['Return_Weekday']=df['Return_Weekday'].map({'Monday':1,'Tuesday':2,'Wednesday':3,'Thursday':4,'Friday':5,'Saturday':6,'Sunday':7}).astype('int')"
   ]
  },
  {
   "cell_type": "code",
   "execution_count": 24,
   "metadata": {},
   "outputs": [
    {
     "data": {
      "text/plain": [
       "December    368\n",
       "January     288\n",
       "February    188\n",
       "July         49\n",
       "May          47\n",
       "April        47\n",
       "June         47\n",
       "March        35\n",
       "Name: Out_Month, dtype: int64"
      ]
     },
     "execution_count": 24,
     "metadata": {},
     "output_type": "execute_result"
    }
   ],
   "source": [
    "# Convert  'Out_Month' datatype from object to integer.\n",
    "\n",
    "df['Out_Month'].value_counts()"
   ]
  },
  {
   "cell_type": "code",
   "execution_count": 25,
   "metadata": {},
   "outputs": [],
   "source": [
    "df['Out_Month']=df['Out_Month'].map({'January':1,'February':2,'March':3,'April':4,'May':5,'June':6,'July':7,'December':12}).astype('int')"
   ]
  },
  {
   "cell_type": "code",
   "execution_count": 26,
   "metadata": {},
   "outputs": [
    {
     "data": {
      "text/plain": [
       "February    333\n",
       "March       276\n",
       "January     270\n",
       "July         49\n",
       "May          47\n",
       "April        47\n",
       "June         47\n",
       "Name: Return_Month, dtype: int64"
      ]
     },
     "execution_count": 26,
     "metadata": {},
     "output_type": "execute_result"
    }
   ],
   "source": [
    "# Convert  'Return_Month' datatype from object to integer.\n",
    "\n",
    "df['Return_Month'].value_counts()"
   ]
  },
  {
   "cell_type": "code",
   "execution_count": 27,
   "metadata": {},
   "outputs": [],
   "source": [
    "df['Return_Month']=df['Return_Month'].map({'January':1,'February':2,'March':3,'April':4,'May':5,'June':6,'July':7}).astype('int')"
   ]
  },
  {
   "cell_type": "code",
   "execution_count": 28,
   "metadata": {},
   "outputs": [
    {
     "data": {
      "text/plain": [
       "1         325\n",
       "2         188\n",
       "3         129\n",
       "5          96\n",
       "4          96\n",
       "6          72\n",
       "7          49\n",
       "8          47\n",
       "9          45\n",
       "+1 NAG     22\n",
       "Name: Out_Cities, dtype: int64"
      ]
     },
     "execution_count": 28,
     "metadata": {},
     "output_type": "execute_result"
    }
   ],
   "source": [
    "# Convert  'Out_Cities' datatype from object to integer.\n",
    "\n",
    "df['Out_Cities'].value_counts()"
   ]
  },
  {
   "cell_type": "code",
   "execution_count": 4,
   "metadata": {},
   "outputs": [],
   "source": [
    "df['Out_Cities']=df['Out_Cities'].replace({'DEL Indira':1,'+1 DEL':1,'BLR Bengaluru':2,'+1 BLR':2,'CCU Netaji':3,'+1 CCU':3,'HYD Rajiv':4,'PNQ Lohegaon':5,'+1 PNQ':5,'NAG Dr.':6,'BOM Chhatrapati':7,'BHO Bhopal':8,'BBI Bhubaneswar':9})"
   ]
  },
  {
   "cell_type": "code",
   "execution_count": 6,
   "metadata": {},
   "outputs": [
    {
     "data": {
      "text/plain": [
       "BBI Bhubaneswar    177\n",
       "CCU Netaji         168\n",
       "BOM Chhatrapati    128\n",
       "HYD Rajiv           93\n",
       "MAA Chennai         93\n",
       "DEL Indira          78\n",
       "+1 CCU              71\n",
       "PNQ Lohegaon        69\n",
       "NAG Dr.             69\n",
       "+1 NAG              25\n",
       "BLR Bengaluru       23\n",
       "+1 PNQ              21\n",
       "+1 DEL              16\n",
       "+1 BBI              13\n",
       "+1 BLR              12\n",
       "+1 BOM               9\n",
       "+1 HYD               3\n",
       "+1 MAA               1\n",
       "Name: Return_Cities, dtype: int64"
      ]
     },
     "execution_count": 6,
     "metadata": {},
     "output_type": "execute_result"
    }
   ],
   "source": [
    "# Convert  'Return_Cities' datatype from object to integer.\n",
    "\n",
    "df['Return_Cities'].value_counts()"
   ]
  },
  {
   "cell_type": "code",
   "execution_count": 7,
   "metadata": {},
   "outputs": [],
   "source": [
    "df['Return_Cities']=df['Return_Cities'].replace({'DEL Indira':1,'+1 DEL':1,'BLR Bengaluru':2,'+1 BLR':2,'CCU Netaji':3,'+1 CCU':3,'HYD Rajiv':4,'+1 HYD':4,'PNQ Lohegaon':5,'+1 PNQ':5,'NAG Dr.':6,'BOM Chhatrapati':7,'MAA Chennai':8,'+1 MAA':8,'BBI Bhubaneswar':9,'+1 BBI':9})"
   ]
  },
  {
   "cell_type": "code",
   "execution_count": 12,
   "metadata": {},
   "outputs": [
    {
     "data": {
      "text/plain": [
       "nonstop    899\n",
       "DEL         47\n",
       "BOM         43\n",
       "HYD         39\n",
       "BLR         25\n",
       "PNQ          8\n",
       "RPR          3\n",
       "LKO          3\n",
       "JAI          1\n",
       "MAA          1\n",
       "Name: Out_Stop_Cities, dtype: int64"
      ]
     },
     "execution_count": 12,
     "metadata": {},
     "output_type": "execute_result"
    }
   ],
   "source": [
    "# Convert  'Out_Stop_Cities' datatype from object to integer.\n",
    "\n",
    "df['Out_Stop_Cities'].value_counts()"
   ]
  },
  {
   "cell_type": "code",
   "execution_count": 30,
   "metadata": {},
   "outputs": [],
   "source": [
    "df['Out_Stop_Cities']=df['Out_Stop_Cities'].map({'nonstop':1,'DEL':2,'BOM':3,'HYD':4,'BLR':5,'PNQ':6,'RPR':7,'LKO':8,'JAI':9,'MAA':10}).astype('int')"
   ]
  },
  {
   "cell_type": "code",
   "execution_count": 33,
   "metadata": {},
   "outputs": [
    {
     "data": {
      "text/plain": [
       "nonstop    899\n",
       "DEL         47\n",
       "BOM         43\n",
       "HYD         39\n",
       "BLR         25\n",
       "PNQ          8\n",
       "RPR          3\n",
       "LKO          3\n",
       "JAI          1\n",
       "MAA          1\n",
       "Name: Return_Stop_Cities, dtype: int64"
      ]
     },
     "execution_count": 33,
     "metadata": {},
     "output_type": "execute_result"
    }
   ],
   "source": [
    "# Convert  'Return_Stop_Cities' datatype from object to integer.\n",
    "\n",
    "df['Return_Stop_Cities'].value_counts()"
   ]
  },
  {
   "cell_type": "code",
   "execution_count": 34,
   "metadata": {},
   "outputs": [],
   "source": [
    "df['Return_Stop_Cities']=df['Return_Stop_Cities'].map({'nonstop':1,'DEL':2,'BOM':3,'HYD':4,'BLR':5,'PNQ':6,'RPR':7,'LKO':8,'JAI':9,'MAA':10}).astype('int')"
   ]
  },
  {
   "cell_type": "code",
   "execution_count": 35,
   "metadata": {},
   "outputs": [
    {
     "name": "stdout",
     "output_type": "stream",
     "text": [
      "<class 'pandas.core.frame.DataFrame'>\n",
      "RangeIndex: 1069 entries, 0 to 1068\n",
      "Data columns (total 25 columns):\n",
      " #   Column               Non-Null Count  Dtype \n",
      "---  ------               --------------  ----- \n",
      " 0   Out_Date             1069 non-null   object\n",
      " 1   Out_Day              1069 non-null   int64 \n",
      " 2   Out_Weekday          1069 non-null   int32 \n",
      " 3   Out_Month            1069 non-null   int32 \n",
      " 4   out_Year             1069 non-null   int64 \n",
      " 5   Out_Time             1069 non-null   object\n",
      " 6   Out_Cities           1069 non-null   object\n",
      " 7   Out_Airline          1069 non-null   int32 \n",
      " 8   Return_Date          1069 non-null   object\n",
      " 9   Return_Day           1069 non-null   int64 \n",
      " 10  Return_Weekday       1069 non-null   int32 \n",
      " 11  Return_Month         1069 non-null   int32 \n",
      " 12  Return_Year          1069 non-null   int64 \n",
      " 13  Return_Time          1069 non-null   object\n",
      " 14  Return_Cities        1069 non-null   object\n",
      " 15  Return_Airline       1069 non-null   int32 \n",
      " 16  Out_Travel_Time      1069 non-null   object\n",
      " 17  Return_Travel_Time   1069 non-null   object\n",
      " 18  Out_Journey_Type     1069 non-null   object\n",
      " 19  Return_Journey_Type  1069 non-null   object\n",
      " 20  Out_Stop_Cities      1069 non-null   int32 \n",
      " 21  Return_Stop_Cities   1069 non-null   int32 \n",
      " 22  Price                1069 non-null   int64 \n",
      " 23  timestamp            1069 non-null   object\n",
      " 24  sort                 1069 non-null   object\n",
      "dtypes: int32(8), int64(5), object(12)\n",
      "memory usage: 175.5+ KB\n"
     ]
    }
   ],
   "source": [
    "df.info()"
   ]
  },
  {
   "cell_type": "code",
   "execution_count": null,
   "metadata": {},
   "outputs": [],
   "source": []
  },
  {
   "cell_type": "code",
   "execution_count": null,
   "metadata": {},
   "outputs": [],
   "source": []
  },
  {
   "cell_type": "code",
   "execution_count": null,
   "metadata": {},
   "outputs": [],
   "source": []
  }
 ],
 "metadata": {
  "kernelspec": {
   "display_name": "Python 3",
   "language": "python",
   "name": "python3"
  },
  "language_info": {
   "codemirror_mode": {
    "name": "ipython",
    "version": 3
   },
   "file_extension": ".py",
   "mimetype": "text/x-python",
   "name": "python",
   "nbconvert_exporter": "python",
   "pygments_lexer": "ipython3",
   "version": "3.8.5"
  }
 },
 "nbformat": 4,
 "nbformat_minor": 4
}
